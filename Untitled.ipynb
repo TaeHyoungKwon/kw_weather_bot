{
 "cells": [
  {
   "cell_type": "code",
   "execution_count": 9,
   "metadata": {},
   "outputs": [
    {
     "data": {
      "text/plain": [
       "'트렌치코트, 자켓, 여러겹 껴입기'"
      ]
     },
     "execution_count": 9,
     "metadata": {},
     "output_type": "execute_result"
    }
   ],
   "source": [
    "UNDER_0_DEGREE = \"오늘은 뭘 입어도 추워요 ㅠㅠ 나가지말고 집에만..\"\n",
    "OVER_30_DEGREE = '오늘은 뭘 입어도 더워요 ㅠㅠ 에어콘 옆에 붙어있으세요'\n",
    "\n",
    "UNDER_4_DEGREE = {'패딩', '두꺼운 코트','히트텍', '목도리', '기모 레깅스', '두꺼운 청바지', '기모 면바지'}\n",
    "UNDER_8_DEGREE = {'코트', '가죽자켓', '히트텍', '니트', '기모 레깅스', '두꺼운 청바지', '기모 면바지'}\n",
    "UNDER_11_DEGREE = {'자켓', '트렌치코트', '야상', '니트', '여러겹 껴입기', '청바지', '면바지'}\n",
    "UNDER_16_DEGREE = {'자켓', '가디건', '야상', '청바지', '면바지'}\n",
    "UNDER_19_DEGREE = {'얇은 니트', '맨투맨', '가디건', '청바지', '슬랙스', '면바지', '원피스'}\n",
    "UNDER_22_DEGREE = {'얇은 가디건', '얇은 긴팔', '면바지', '청바지', '슬랙스', '원피스'}\n",
    "UNDER_27_DEGREE = {'반팔', '얇은 셔츠', '반바지', '얇은 면바지'}\n",
    "UNDER_30_DEGREE = {'반팔', '반바지', '민소매'}\n",
    "\n",
    "\n",
    "SAMPLE_COUNT = 3\n",
    "\n",
    "def choose_clothes(temperature):\n",
    "    result = []\n",
    "    if temperature <= 0:\n",
    "        return UNDER_0_DEGREE\n",
    "    if temperature > 30:\n",
    "        return OVER_30_DEGREE\n",
    "    \n",
    "    if temperature <= 4:\n",
    "        result = random.sample(UNDER_4_DEGREE, SAMPLE_COUNT)\n",
    "    elif temperature <= 8:\n",
    "        result = random.sample(UNDER_8_DEGREE, SAMPLE_COUNT)    \n",
    "    elif temperature <= 11:\n",
    "        result = random.sample(UNDER_11_DEGREE, SAMPLE_COUNT)        \n",
    "    elif temperature <= 16:\n",
    "        result = random.sample(UNDER_16_DEGREE, SAMPLE_COUNT)                \n",
    "    elif temperature <= 19:\n",
    "        result = random.sample(UNDER_19_DEGREE, SAMPLE_COUNT)                            \n",
    "    elif temperature <= 22:\n",
    "        result = random.sample(UNDER_22_DEGREE, SAMPLE_COUNT)                        \n",
    "    elif temperature <= 27:\n",
    "        result = random.sample(UNDER_27_DEGREE, SAMPLE_COUNT)                        \n",
    "    elif temperature <= 30:\n",
    "        result = random.sample(UNDER_30_DEGREE, SAMPLE_COUNT)                                \n",
    "    elif temperature <= 30:\n",
    "        result = random.sample(UNDER_30_DEGREE, SAMPLE_COUNT)                        \n",
    "    \n",
    "    return ', '.join(result)\n",
    "        \n",
    "        \n",
    "choose_clothes(10) \n",
    "    \n",
    "        \n",
    "    "
   ]
  },
  {
   "cell_type": "code",
   "execution_count": 7,
   "metadata": {},
   "outputs": [
    {
     "data": {
      "text/plain": [
       "['기모 면바지', '히트텍', '목도리']"
      ]
     },
     "execution_count": 7,
     "metadata": {},
     "output_type": "execute_result"
    }
   ],
   "source": [
    "import random\n",
    "UNDER_4_DEGREE = ['패딩', '두꺼운 코트','히트텍', '목도리', '기모 레깅스', '두꺼운 청바지', '기모 면바지']\n",
    "\n"
   ]
  },
  {
   "cell_type": "code",
   "execution_count": null,
   "metadata": {},
   "outputs": [],
   "source": []
  }
 ],
 "metadata": {
  "kernelspec": {
   "display_name": "Python 3",
   "language": "python",
   "name": "python3"
  },
  "language_info": {
   "codemirror_mode": {
    "name": "ipython",
    "version": 3
   },
   "file_extension": ".py",
   "mimetype": "text/x-python",
   "name": "python",
   "nbconvert_exporter": "python",
   "pygments_lexer": "ipython3",
   "version": "3.6.5"
  }
 },
 "nbformat": 4,
 "nbformat_minor": 2
}
